{
 "cells": [
  {
   "cell_type": "code",
   "execution_count": 1,
   "metadata": {},
   "outputs": [
    {
     "name": "stdout",
     "output_type": "stream",
     "text": [
      "4.9.0\n"
     ]
    }
   ],
   "source": [
    "import cv2\n",
    "print(cv2.__version__)"
   ]
  },
  {
   "cell_type": "code",
   "execution_count": null,
   "metadata": {},
   "outputs": [],
   "source": [
    "img_file = cv2.imread('./image2/cat.jpg')\n",
    "cv2.imshow('title', img_file)\n",
    "cv2.waitKey()\n",
    "cv2.destroyAllWindows()"
   ]
  },
  {
   "cell_type": "code",
   "execution_count": 5,
   "metadata": {},
   "outputs": [
    {
     "name": "stdout",
     "output_type": "stream",
     "text": [
      "<class 'numpy.ndarray'>\n",
      "(425, 640, 3)\n"
     ]
    }
   ],
   "source": [
    "img_file = cv2.imread('./image2/cat.jpg')\n",
    "print(type(img_file))\n",
    "print(img_file.shape)\n",
    "cv2.imshow('title', img_file)\n",
    "key = cv2.waitKey()\n",
    "if key == 27: #-> ESC키 \n",
    "#if key == ord('q'): \n",
    "    cv2.destroyAllWindows()"
   ]
  },
  {
   "cell_type": "markdown",
   "metadata": {},
   "source": [
    "##컬러 윈도우 만들기"
   ]
  },
  {
   "cell_type": "code",
   "execution_count": null,
   "metadata": {},
   "outputs": [],
   "source": [
    "import cv2\n",
    "import numpy as np\n",
    "\n",
    "image = np.zeros((300,400), np.uint8) \n",
    "image.fill(200) \n",
    "cv2.imshow('Window',image)\n",
    "\n",
    "image = np.zeros((300,400,3), np.uint8) #3차원 배열\n",
    "image[:,:] = (0,0,225) #행렬 값을 (0,0,255)로 지정: 빨강(B,G,R)\n",
    "cv2.imshow('Window2',image)\n",
    "\n",
    "\n",
    "cv2.waitKey()\n",
    "cv2.destroyAllWindows"
   ]
  },
  {
   "cell_type": "code",
   "execution_count": 2,
   "metadata": {},
   "outputs": [],
   "source": [
    "img_file = cv2.imread('./image2/cat.jpg',cv2.IMREAD_COLOR)\n",
    "img_gray = cv2.imread('./image2/cat.jpg',cv2.IMREAD_GRAYSCALE)\n",
    "\n",
    "cv2.imshow('color',img_file)\n",
    "cv2.imshow('gray',img_gray)\n",
    "cv2.waitKey(0)\n",
    "cv2.destroyAllWindows()"
   ]
  },
  {
   "cell_type": "markdown",
   "metadata": {},
   "source": [
    "가로로띄우기  "
   ]
  },
  {
   "cell_type": "code",
   "execution_count": 3,
   "metadata": {},
   "outputs": [],
   "source": [
    "import cv2\n",
    "import numpy as np\n",
    "\n",
    "img_file = cv2.imread('./image2/cat.jpg',cv2.IMREAD_COLOR)\n",
    "img_gray = cv2.imread('./image2/cat.jpg',cv2.IMREAD_GRAYSCALE)\n",
    "\n",
    "img_gray_3channel = cv2.cvtColor(img_gray, cv2.COLOR_GRAY2BGR)\n",
    "h_image = np.hstack((img_file, img_gray_3channel))\n",
    "h_image = np.concatenate((img_file, img_gray_3channel),axis = 1)\n",
    "\n",
    "cv2.imshow('Horizontal Image',h_image)\n",
    "cv2.waitKey(0)\n",
    "cv2.destroyAllWindows()\n"
   ]
  },
  {
   "cell_type": "markdown",
   "metadata": {},
   "source": [
    "세로로띄우기"
   ]
  },
  {
   "cell_type": "code",
   "execution_count": 4,
   "metadata": {},
   "outputs": [],
   "source": [
    "img_file = cv2.imread('./image2/cat.jpg',cv2.IMREAD_COLOR)\n",
    "img_gray = cv2.imread('./image2/cat.jpg',cv2.IMREAD_GRAYSCALE)\n",
    "\n",
    "img_gray_3channel = cv2.cvtColor(img_gray, cv2.COLOR_GRAY2BGR)\n",
    "v_image = np.vstack((img_file, img_gray_3channel))\n",
    "v_image = np.concatenate((img_file, img_gray_3channel),axis = 0)\n",
    "\n",
    "cv2.imshow('Horizontal Image',v_image)\n",
    "cv2.waitKey(0)\n",
    "cv2.destroyAllWindows()\n"
   ]
  },
  {
   "cell_type": "code",
   "execution_count": null,
   "metadata": {},
   "outputs": [],
   "source": []
  }
 ],
 "metadata": {
  "kernelspec": {
   "display_name": "Python 3",
   "language": "python",
   "name": "python3"
  },
  "language_info": {
   "codemirror_mode": {
    "name": "ipython",
    "version": 3
   },
   "file_extension": ".py",
   "mimetype": "text/x-python",
   "name": "python",
   "nbconvert_exporter": "python",
   "pygments_lexer": "ipython3",
   "version": "3.12.1"
  }
 },
 "nbformat": 4,
 "nbformat_minor": 2
}
