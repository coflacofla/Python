{
 "cells": [
  {
   "cell_type": "code",
   "execution_count": null,
   "metadata": {},
   "outputs": [],
   "source": [
    "import numpy as np\n",
    "\n",
    "x = np.arange(15,dtype = np.int64)\n",
    "x = x.reshape(3,5) #모양을 3행 5열로 만든다 \n",
    "print(x)"
   ]
  },
  {
   "cell_type": "code",
   "execution_count": null,
   "metadata": {},
   "outputs": [],
   "source": [
    "import numpy as np\n",
    "a = [1,2,3,4,5]\n",
    "b = np.array(a)\n",
    "c = np.array([1,3,5,])\n",
    "\n",
    "print(a)\n",
    "print(b) #쉼표 없음\n",
    "print(c) #쉼표 없음 \n",
    "\n",
    "b #쉼표 있음 \n",
    "\n"
   ]
  },
  {
   "cell_type": "code",
   "execution_count": null,
   "metadata": {},
   "outputs": [],
   "source": [
    "import numpy as np\n",
    "\n",
    "a = np.array([1,2,3,4,5])\n",
    "b = a\n",
    "c = a.copy()\n",
    "b[0] = 99\n",
    "\n",
    "\n",
    "print(a)\n",
    "print(b)\n",
    "print(c) "
   ]
  },
  {
   "cell_type": "code",
   "execution_count": null,
   "metadata": {},
   "outputs": [],
   "source": [
    "a = [1,2,3,4,5]\n",
    "b = np.array(a)\n",
    "c = np.array([1,3,5])\n",
    "\n",
    "print(b[2])\n",
    "print(c[-1])\n",
    "print(c[0:2]) #[0]부터 [2]미만! 이라 [2]는 미포함 \n"
   ]
  },
  {
   "cell_type": "code",
   "execution_count": null,
   "metadata": {},
   "outputs": [],
   "source": [
    "print(a*2)\n",
    "\n",
    "print(b*2) #np는 각각의 요소에 2가 곱해짐\n",
    "\n",
    "print(c+3) #얘도 np니까 각각의 요소에 +3이 일괄적으로 됨 "
   ]
  },
  {
   "cell_type": "code",
   "execution_count": null,
   "metadata": {},
   "outputs": [],
   "source": [
    "a = np.array([1,2.3,3],dtype = int)\n",
    "b = np.array([1.1,2.2,3.3])\n",
    "c = np.array([1.1,2,3])\n",
    "\n",
    "print(a)\n",
    "print(a.dtype)\n",
    "print(b.dtype)\n",
    "print(c)\n"
   ]
  },
  {
   "cell_type": "code",
   "execution_count": null,
   "metadata": {},
   "outputs": [],
   "source": [
    "a = np.array([[1,2,3],[4,5,6],[7,8,9]])\n",
    "b = np.array([[[1,2],[3,4]],[[5,6],[7,8]],[[9,0],[1,2]]])\n",
    "\n",
    "print(a[2])\n",
    "print(a[2][0])\n",
    "print(b[0])\n",
    "print(b[0][0])\n",
    "print(b[0][0][0])\n",
    "print(b.shape)"
   ]
  },
  {
   "cell_type": "code",
   "execution_count": null,
   "metadata": {},
   "outputs": [],
   "source": [
    "a = np.array([[1,2,3],\n",
    "              [4,5,6],\n",
    "              [7,8,9]])\n",
    "\n",
    "print(a[0])\n",
    "print(a[0][2])\n",
    "print(a.shape)"
   ]
  },
  {
   "cell_type": "code",
   "execution_count": null,
   "metadata": {},
   "outputs": [],
   "source": [
    "import sys\n",
    "import cv2\n",
    "\n",
    "print('Hello OpenCV',cv2.__version__) #opencv의 version출력\n",
    "\n",
    "image = cv2.imread('./image/dog.jpg') \n",
    "if image is None: #image값이 없으면 즉 해당 폴더에 image file이 없다면\n",
    "    print('Image load failed!')\n",
    "    sys.exit() #나가버려 \n",
    "\n",
    "print(type(image))\n",
    "print(image.dtype)\n",
    "print(image)\n"
   ]
  },
  {
   "cell_type": "code",
   "execution_count": 6,
   "metadata": {},
   "outputs": [
    {
     "name": "stdout",
     "output_type": "stream",
     "text": [
      "[[1 2 3]\n",
      " [4 5 6]]\n",
      "2\n",
      "3\n",
      "2\n",
      "(2, 3)\n"
     ]
    }
   ],
   "source": [
    "import numpy as np\n",
    "a = np.array([[1,2,3],[4,5,6]])\n",
    "print(a)\n",
    "print(len(a)) #행의 개수\n",
    "print(len(a[0])) #열의 개수\n",
    "print(a.ndim) #배열의 차원\n",
    "print(a.shape) #배열의 크기"
   ]
  },
  {
   "cell_type": "code",
   "execution_count": 11,
   "metadata": {},
   "outputs": [
    {
     "name": "stdout",
     "output_type": "stream",
     "text": [
      "[ 0  1  2  3  4  5  6  7  8  9 10 11]\n",
      "[[ 0  1  2  3]\n",
      " [ 4  5  6  7]\n",
      " [ 8  9 10 11]]\n",
      "[[ 0  1  2  3]\n",
      " [ 4  5  6  7]\n",
      " [ 8  9 10 11]]\n"
     ]
    }
   ],
   "source": [
    "#배열의 크기 변경\n",
    "import numpy as np\n",
    "na = np.arange(12)\n",
    "print(na)\n",
    "\n",
    "nb = na.reshape(3,4)\n",
    "print(nb)\n",
    "\n",
    "nc = na.reshape(3,-1)\n",
    "print(nc)"
   ]
  },
  {
   "cell_type": "code",
   "execution_count": 12,
   "metadata": {},
   "outputs": [
    {
     "name": "stdout",
     "output_type": "stream",
     "text": [
      "[ 0  1  2  3  4  5  6  7  8  9 10 11]\n"
     ]
    }
   ],
   "source": [
    "import numpy as np\n",
    "\n",
    "nc = nb.flatten() #rave 함수도 있음 \n",
    "print(nc)"
   ]
  },
  {
   "cell_type": "code",
   "execution_count": 13,
   "metadata": {},
   "outputs": [
    {
     "name": "stdout",
     "output_type": "stream",
     "text": [
      "0\n",
      "[2 6]\n",
      "[5 6 7]\n"
     ]
    }
   ],
   "source": [
    "a = np.array([[0,1,2,3],[4,5,6,7]])\n",
    "\n",
    "print(a[0,0])\n",
    "print(a[:,2])\n",
    "print(a[1,1:])"
   ]
  },
  {
   "cell_type": "code",
   "execution_count": 14,
   "metadata": {},
   "outputs": [
    {
     "name": "stdout",
     "output_type": "stream",
     "text": [
      "['' '' '' '' '']\n"
     ]
    }
   ],
   "source": [
    "import numpy as np\n",
    "na = np.zeros(5, dtype=\"U4\")\n",
    "print(na)"
   ]
  }
 ],
 "metadata": {
  "kernelspec": {
   "display_name": "Python 3",
   "language": "python",
   "name": "python3"
  },
  "language_info": {
   "codemirror_mode": {
    "name": "ipython",
    "version": 3
   },
   "file_extension": ".py",
   "mimetype": "text/x-python",
   "name": "python",
   "nbconvert_exporter": "python",
   "pygments_lexer": "ipython3",
   "version": "3.12.1"
  }
 },
 "nbformat": 4,
 "nbformat_minor": 2
}
