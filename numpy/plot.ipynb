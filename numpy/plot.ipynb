{
 "cells": [
  {
   "cell_type": "code",
   "execution_count": null,
   "metadata": {},
   "outputs": [],
   "source": [
    "import matplotlib.pyplot as plt\n",
    "\n",
    "X = range(100)\n",
    "Y = range(100)\n",
    "plt.plot(X,Y)\n",
    "plt.show()"
   ]
  },
  {
   "cell_type": "code",
   "execution_count": null,
   "metadata": {},
   "outputs": [],
   "source": [
    "import numpy as np\n",
    "x_1=range(100)\n",
    "y_1 = [np.cos(value) for value in X]\n",
    "\n",
    "x_2 = range(100)\n",
    "y_2 = [np.sin(value) for value in X]\n",
    "\n",
    "plt.plot(x_1,y_1)\n",
    "plt.plot(x_2,y_2)\n",
    "plt.show()"
   ]
  },
  {
   "cell_type": "code",
   "execution_count": null,
   "metadata": {},
   "outputs": [],
   "source": [
    "fig, ax = plt.subplots()\n",
    "\n",
    "x_1 = range(100)\n",
    "y_1 = [np.cos(value) for value in X]\n",
    "\n",
    "ax.plot(x_1,y_1,c='r')\n",
    "ax.set(title='cos graph')\n",
    "\n",
    "xlabel = 'X'\n",
    "ylabel = 'Y'\n",
    "\n",
    "plt.show()"
   ]
  },
  {
   "cell_type": "code",
   "execution_count": null,
   "metadata": {},
   "outputs": [],
   "source": [
    "fig = plt.figure()\n",
    "fig.set_size_inches(10,10) #figure size지정 \n",
    "\n",
    "ax_1 = fig.add_subplot(2,2,1) #(2,2)는 사분면 즉, (2,2,1)은 1사분면/(2,2,2)는 2사분면\n",
    "ax_2 = fig.add_subplot(2,2,2)\n",
    "\n",
    "ax_1.plot(x_1,y_1,c=\"b\")\n",
    "ax_2.plot(x_2,y_2,c=\"g\")\n",
    "plt.show()"
   ]
  },
  {
   "cell_type": "code",
   "execution_count": null,
   "metadata": {},
   "outputs": [],
   "source": [
    "fig, ax = plt.subplots(nrows=1, ncols=2)\n",
    "print(ax)"
   ]
  },
  {
   "cell_type": "code",
   "execution_count": null,
   "metadata": {},
   "outputs": [],
   "source": [
    "import numpy as np\n",
    "import matplotlib.pyplot as plt\n",
    "\n",
    "x = np.linspace(-1,1,100)\n",
    "y_1 = np.sin(x)\n",
    "y_2 = np.cos(x)\n",
    "y_3 = np.tan(x)\n",
    "y_4 = np.exp(x)\n",
    "\n",
    "fig, ax = plt.subplots(2,2)\n",
    "\n",
    "ax[0,0].plot(x,y_1)\n",
    "ax[0,1].plot(x,y_2)\n",
    "ax[1,0].plot(x,y_3)\n",
    "ax[1,1].plot(x,y_4)\n",
    "\n",
    "plt.show()"
   ]
  },
  {
   "cell_type": "code",
   "execution_count": null,
   "metadata": {},
   "outputs": [],
   "source": [
    "ax1 = plt.subplot(321) #subplot(s)가 아님 (321)은 3행 2열의 1첫번째 subplot지정\n",
    "plt.plot(x,y_1)\n",
    "ax2 = plt.subplot(322)\n",
    "plt.plot(x,y_1)\n",
    "ax3 = plt.subplot(312)\n",
    "plt.plot(x,y_1)\n",
    "ax4 = plt.subplot(325)\n",
    "plt.plot(x,y_1)\n",
    "ax5 = plt.subplot(326)\n",
    "plt.plot(x,y_1)\n",
    "\n",
    "plt.show()"
   ]
  },
  {
   "cell_type": "code",
   "execution_count": null,
   "metadata": {},
   "outputs": [],
   "source": [
    "x_1 = range(100)\n",
    "y_1 = [value for value in X]\n",
    "\n",
    "x_2 = range(100)\n",
    "y_2 = [value + 100 for value in X]\n",
    "\n",
    "plt.plot(x_1, y_1, c=\"#000111\")\n",
    "plt.plot(x_2,y_2,c='c')\n",
    "\n",
    "plt.show()"
   ]
  },
  {
   "cell_type": "code",
   "execution_count": null,
   "metadata": {},
   "outputs": [],
   "source": [
    "plt.plot(x_1, y_1, c = 'b', linestyle =\"dashed\") #점선\n",
    "\n",
    "plt.plot(x_2,y_2, c = 'r', ls =\"dotted\") #실선\n",
    "\n",
    "plt.title(\"Two lines\")\n",
    "plt.show()\n"
   ]
  },
  {
   "cell_type": "code",
   "execution_count": null,
   "metadata": {},
   "outputs": [],
   "source": [
    "fig = plt.figure()\n",
    "fig.set_size_inches(10,10)\n",
    "\n",
    "ax_1 = fig.add_subplot(1,2,1)\n",
    "ax_2 = fig.add_subplot(1,2,2)\n",
    "\n",
    "ax_1.plot(x_1, y_1, c='b')\n",
    "ax_1.set_title(\"Fig1\")\n",
    "ax_2.plot(x_2, y_2, c='g')\n",
    "ax_2.set_title(\"figure2\")\n",
    "\n",
    "\n",
    "plt.show()"
   ]
  },
  {
   "cell_type": "code",
   "execution_count": null,
   "metadata": {},
   "outputs": [],
   "source": [
    "plt.plot(x_1,y_1, c='b',ls='dashed',label='line1')\n",
    "plt.plot(x_2,y_2, c='r',ls='dotted',label='line2')\n",
    "\n",
    "plt.legend(shadow=True, fancybox=False,loc=\"upper right\")\n",
    "\n",
    "plt.title('$y=ax+b$')\n",
    "plt.xlabel('$x_line$')\n",
    "plt.ylabel('y_line')"
   ]
  },
  {
   "cell_type": "code",
   "execution_count": null,
   "metadata": {},
   "outputs": [],
   "source": [
    "data_1 = np.random.rand(512,2)\n",
    "data_2 = np.random.rand(512,2)\n",
    "\n",
    "plt.scatter(data_1[:,0],data_1[:,1],c='k',marker='X')\n",
    "plt.scatter(data_2[:,0],data_2[:,1],c='r',marker='d')\n",
    "\n",
    "plt.show()"
   ]
  },
  {
   "cell_type": "code",
   "execution_count": null,
   "metadata": {},
   "outputs": [],
   "source": [
    "N = 50\n",
    "x = np.random.rand(N)\n",
    "y = np.random.rand(N)\n",
    "colors = np.random.rand(N)\n",
    "area = np.pi*(15*np.random.rand(N))**2\n",
    "\n",
    "plt.scatter(x,y,s=area,c=colors,alpha=0.5)\n",
    "\n",
    "plt.show()"
   ]
  },
  {
   "cell_type": "code",
   "execution_count": null,
   "metadata": {},
   "outputs": [],
   "source": [
    "data = [[5.,25.,50.,20.],[4.,23.,51.,17],[6.,22.,52.,19]]\n",
    "\n",
    "X = np.arange(0,8,2)\n",
    "\n",
    "plt.bar(X + 0.00, data[0], color = 'b', width = 0.5) #얘는 color 표시시 c라고 쓰면 인식 불가능함 \n",
    "plt.bar(X + 0.5, data[1], color = 'g', width = 0.5)\n",
    "plt.bar(X + 1.0, data[2], color = 'r', width = 0.5)\n",
    "\n",
    "plt.xticks(X+0.5, (\"A\",\"B\",\"C\",\"D\"))\n",
    "\n",
    "plt.show()"
   ]
  },
  {
   "cell_type": "code",
   "execution_count": null,
   "metadata": {},
   "outputs": [],
   "source": [
    "data = np.array([[5.,25.,50.,20.],[4.,23.,51.,17],[6.,22.,52.,19]])\n",
    "\n",
    "color_list = ['b','g','r']\n",
    "data_label = [\"A\",\"B\",\"C\"]\n",
    "X = np.arange(data.shape[1])\n",
    "\n",
    "data = np.array([[5,5,5,5],[4,23,51,17],[6,22,52,19]])\n",
    "\n",
    "for i in range(3):\n",
    "    plt.bar(X, data[i], \n",
    "            bottom = np.sum(data[:i], axis=0),\n",
    "            color = color_list[i], label=data_label[i])\n",
    "    \n",
    "plt.legend()\n",
    "plt.show()"
   ]
  },
  {
   "cell_type": "code",
   "execution_count": null,
   "metadata": {},
   "outputs": [],
   "source": [
    "N = 1000\n",
    "X = np.random.normal(size=N)\n",
    "\n",
    "plt.hist(X, bins=100)\n",
    "plt.show()"
   ]
  },
  {
   "cell_type": "code",
   "execution_count": null,
   "metadata": {},
   "outputs": [],
   "source": [
    "data = np.random.randn(100,5)\n",
    "plt.boxplot(data)\n",
    "plt.show()"
   ]
  }
 ],
 "metadata": {
  "kernelspec": {
   "display_name": "Python 3",
   "language": "python",
   "name": "python3"
  },
  "language_info": {
   "codemirror_mode": {
    "name": "ipython",
    "version": 3
   },
   "file_extension": ".py",
   "mimetype": "text/x-python",
   "name": "python",
   "nbconvert_exporter": "python",
   "pygments_lexer": "ipython3",
   "version": "3.12.1"
  }
 },
 "nbformat": 4,
 "nbformat_minor": 2
}
